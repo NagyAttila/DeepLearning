{
 "cells": [
  {
   "cell_type": "markdown",
   "metadata": {
    "collapsed": true,
    "deletable": true,
    "editable": true
   },
   "source": [
    "# Image Classification\n",
    "In this project, you'll classify images from the [CIFAR-10 dataset](https://www.cs.toronto.edu/~kriz/cifar.html).  The dataset consists of airplanes, dogs, cats, and other objects. You'll preprocess the images, then train a convolutional neural network on all the samples. The images need to be normalized and the labels need to be one-hot encoded.  You'll get to apply what you learned and build a convolutional, max pooling, dropout, and fully connected layers.  At the end, you'll get to see your neural network's predictions on the sample images.\n",
    "## Get the Data\n",
    "Run the following cell to download the [CIFAR-10 dataset for python](https://www.cs.toronto.edu/~kriz/cifar-10-python.tar.gz)."
   ]
  },
  {
   "cell_type": "code",
   "execution_count": 2,
   "metadata": {
    "collapsed": false,
    "deletable": true,
    "editable": true
   },
   "outputs": [
    {
     "name": "stderr",
     "output_type": "stream",
     "text": [
      "CIFAR-10 Dataset: 171MB [01:39, 1.71MB/s]                               \n"
     ]
    },
    {
     "name": "stdout",
     "output_type": "stream",
     "text": [
      "All files found!\n"
     ]
    }
   ],
   "source": [
    "\"\"\"\n",
    "DON'T MODIFY ANYTHING IN THIS CELL THAT IS BELOW THIS LINE\n",
    "\"\"\"\n",
    "from urllib.request import urlretrieve\n",
    "from os.path import isfile, isdir\n",
    "from tqdm import tqdm\n",
    "import problem_unittests as tests\n",
    "import tarfile\n",
    "\n",
    "cifar10_dataset_folder_path = 'cifar-10-batches-py'\n",
    "\n",
    "class DLProgress(tqdm):\n",
    "    last_block = 0\n",
    "\n",
    "    def hook(self, block_num=1, block_size=1, total_size=None):\n",
    "        self.total = total_size\n",
    "        self.update((block_num - self.last_block) * block_size)\n",
    "        self.last_block = block_num\n",
    "\n",
    "if not isfile('cifar-10-python.tar.gz'):\n",
    "    with DLProgress(unit='B', unit_scale=True, miniters=1, desc='CIFAR-10 Dataset') as pbar:\n",
    "        urlretrieve(\n",
    "            'https://www.cs.toronto.edu/~kriz/cifar-10-python.tar.gz',\n",
    "            'cifar-10-python.tar.gz',\n",
    "            pbar.hook)\n",
    "\n",
    "if not isdir(cifar10_dataset_folder_path):\n",
    "    with tarfile.open('cifar-10-python.tar.gz') as tar:\n",
    "        tar.extractall()\n",
    "        tar.close()\n",
    "\n",
    "\n",
    "tests.test_folder_path(cifar10_dataset_folder_path)"
   ]
  },
  {
   "cell_type": "markdown",
   "metadata": {
    "deletable": true,
    "editable": true
   },
   "source": [
    "## Explore the Data\n",
    "The dataset is broken into batches to prevent your machine from running out of memory.  The CIFAR-10 dataset consists of 5 batches, named `data_batch_1`, `data_batch_2`, etc.. Each batch contains the labels and images that are one of the following:\n",
    "* airplane\n",
    "* automobile\n",
    "* bird\n",
    "* cat\n",
    "* deer\n",
    "* dog\n",
    "* frog\n",
    "* horse\n",
    "* ship\n",
    "* truck\n",
    "\n",
    "Understanding a dataset is part of making predictions on the data.  Play around with the code cell below by changing the `batch_id` and `sample_id`. The `batch_id` is the id for a batch (1-5). The `sample_id` is the id for a image and label pair in the batch.\n",
    "\n",
    "Ask yourself \"What are all possible labels?\", \"What is the range of values for the image data?\", \"Are the labels in order or random?\".  Answers to questions like these will help you preprocess the data and end up with better predictions."
   ]
  },
  {
   "cell_type": "code",
   "execution_count": 3,
   "metadata": {
    "collapsed": false,
    "deletable": true,
    "editable": true
   },
   "outputs": [
    {
     "name": "stdout",
     "output_type": "stream",
     "text": [
      "\n",
      "Stats of batch 4:\n",
      "Samples: 10000\n",
      "Label Counts: {0: 1003, 1: 963, 2: 1041, 3: 976, 4: 1004, 5: 1021, 6: 1004, 7: 981, 8: 1024, 9: 983}\n",
      "First 20 Labels: [0, 6, 0, 2, 7, 2, 1, 2, 4, 1, 5, 6, 6, 3, 1, 3, 5, 5, 8, 1]\n",
      "\n",
      "Example of Image 0:\n",
      "Image - Min Value: 34 Max Value: 203\n",
      "Image - Shape: (32, 32, 3)\n",
      "Label - Label Id: 0 Name: airplane\n"
     ]
    },
    {
     "data": {
      "image/png": "[encoded data removed]",
      "text/plain": [
       "<matplotlib.figure.Figure at 0x7f1079af57b8>"
      ]
     },
     "metadata": {
      "image/png": {
       "height": 250,
       "width": 253
      }
     },
     "output_type": "display_data"
    }
   ],
   "source": [
    "%matplotlib inline\n",
    "%config InlineBackend.figure_format = 'retina'\n",
    "\n",
    "import helper\n",
    "import numpy as np\n",
    "\n",
    "# Explore the dataset\n",
    "batch_id = 4\n",
    "sample_id = 0\n",
    "helper.display_stats(cifar10_dataset_folder_path, batch_id, sample_id)"
   ]
  },
  {
   "cell_type": "markdown",
   "metadata": {
    "deletable": true,
    "editable": true
   },
   "source": [
    "## Implement Preprocess Functions\n",
    "### Normalize\n",
    "In the cell below, implement the `normalize` function to take in image data, `x`, and return it as a normalized Numpy array. The values should be in the range of 0 to 1, inclusive.  The return object should be the same shape as `x`."
   ]
  },
  {
   "cell_type": "code",
   "execution_count": 4,
   "metadata": {
    "collapsed": false,
    "deletable": true,
    "editable": true
   },
   "outputs": [
    {
     "name": "stdout",
     "output_type": "stream",
     "text": [
      "Tests Passed\n"
     ]
    }
   ],
   "source": [
    "def normalize(x):\n",
    "    \"\"\"\n",
    "    Normalize a list of sample image data in the range of 0 to 1\n",
    "    : x: List of image data.  The image shape is (32, 32, 3)\n",
    "    : return: Numpy array of normalize data\n",
    "    \"\"\"\n",
    "    \n",
    "    x = np.array(x)\n",
    "    return x/np.max(x)\n",
    "\n",
    "\n",
    "\"\"\"\n",
    "DON'T MODIFY ANYTHING IN THIS CELL THAT IS BELOW THIS LINE\n",
    "\"\"\"\n",
    "tests.test_normalize(normalize)"
   ]
  },
  {
   "cell_type": "markdown",
   "metadata": {
    "deletable": true,
    "editable": true
   },
   "source": [
    "### One-hot encode\n",
    "Just like the previous code cell, you'll be implementing a function for preprocessing.  This time, you'll implement the `one_hot_encode` function. The input, `x`, are a list of labels.  Implement the function to return the list of labels as One-Hot encoded Numpy array.  The possible values for labels are 0 to 9. The one-hot encoding function should return the same encoding for each value between each call to `one_hot_encode`.  Make sure to save the map of encodings outside the function.\n",
    "\n",
    "Hint: Don't reinvent the wheel."
   ]
  },
  {
   "cell_type": "code",
   "execution_count": 5,
   "metadata": {
    "collapsed": false,
    "deletable": true,
    "editable": true
   },
   "outputs": [
    {
     "name": "stdout",
     "output_type": "stream",
     "text": [
      "Tests Passed\n"
     ]
    }
   ],
   "source": [
    "def one_hot_encode(xs):\n",
    "    \"\"\"\n",
    "    One hot encode a list of sample labels. Return a one-hot encoded vector for each label.\n",
    "    : x: List of sample Labels\n",
    "    : return: Numpy array of one-hot encoded labels\n",
    "    \"\"\"\n",
    "    \n",
    "    \n",
    "    output_size =10\n",
    "    \n",
    "    # Reinventing the wheel\n",
    "    n_xs = len(xs)\n",
    "    one_hot = np.zeros((n_xs, output_size), dtype=np.float32)\n",
    "    one_hot[range(n_xs),(xs)] = 1\n",
    "    \n",
    "    return one_hot\n",
    "\n",
    "\"\"\"\n",
    "DON'T MODIFY ANYTHING IN THIS CELL THAT IS BELOW THIS LINE\n",
    "\"\"\"\n",
    "tests.test_one_hot_encode(one_hot_encode)"
   ]
  },
  {
   "cell_type": "markdown",
   "metadata": {
    "deletable": true,
    "editable": true
   },
   "source": [
    "### Randomize Data\n",
    "As you saw from exploring the data above, the order of the samples are randomized.  It doesn't hurt to randomize it again, but you don't need to for this dataset."
   ]
  },
  {
   "cell_type": "markdown",
   "metadata": {
    "deletable": true,
    "editable": true
   },
   "source": [
    "## Preprocess all the data and save it\n",
    "Running the code cell below will preprocess all the CIFAR-10 data and save it to file. The code below also uses 10% of the training data for validation."
   ]
  },
  {
   "cell_type": "code",
   "execution_count": 6,
   "metadata": {
    "collapsed": false,
    "deletable": true,
    "editable": true
   },
   "outputs": [],
   "source": [
    "\"\"\"\n",
    "DON'T MODIFY ANYTHING IN THIS CELL\n",
    "\"\"\"\n",
    "# Preprocess Training, Validation, and Testing Data\n",
    "helper.preprocess_and_save_data(cifar10_dataset_folder_path, normalize, one_hot_encode)"
   ]
  },
  {
   "cell_type": "markdown",
   "metadata": {
    "deletable": true,
    "editable": true
   },
   "source": [
    "# Check Point\n",
    "This is your first checkpoint.  If you ever decide to come back to this notebook or have to restart the notebook, you can start from here.  The preprocessed data has been saved to disk."
   ]
  },
  {
   "cell_type": "code",
   "execution_count": 7,
   "metadata": {
    "collapsed": false,
    "deletable": true,
    "editable": true
   },
   "outputs": [],
   "source": [
    "\"\"\"\n",
    "DON'T MODIFY ANYTHING IN THIS CELL\n",
    "\"\"\"\n",
    "import pickle\n",
    "import problem_unittests as tests\n",
    "import helper\n",
    "\n",
    "# Load the Preprocessed Validation data\n",
    "valid_features, valid_labels = pickle.load(open('preprocess_validation.p', mode='rb'))"
   ]
  },
  {
   "cell_type": "markdown",
   "metadata": {
    "deletable": true,
    "editable": true
   },
   "source": [
    "## Build the network\n",
    "For the neural network, you'll build each layer into a function.  Most of the code you've seen has been outside of functions. To test your code more thoroughly, we require that you put each layer in a function.  This allows us to give you better feedback and test for simple mistakes using our unittests before you submit your project.\n",
    "\n",
    ">**Note:** If you're finding it hard to dedicate enough time for this course each week, we've provided a small shortcut to this part of the project. In the next couple of problems, you'll have the option to use classes from the [TensorFlow Layers](https://www.tensorflow.org/api_docs/python/tf/layers) or [TensorFlow Layers (contrib)](https://www.tensorflow.org/api_guides/python/contrib.layers) packages to build each layer, except the layers you build in the \"Convolutional and Max Pooling Layer\" section.  TF Layers is similar to Keras's and TFLearn's abstraction to layers, so it's easy to pickup.\n",
    "\n",
    ">However, if you would like to get the most out of this course, try to solve all the problems _without_ using anything from the TF Layers packages. You **can** still use classes from other packages that happen to have the same name as ones you find in TF Layers! For example, instead of using the TF Layers version of the `conv2d` class, [tf.layers.conv2d](https://www.tensorflow.org/api_docs/python/tf/layers/conv2d), you would want to use the TF Neural Network version of `conv2d`, [tf.nn.conv2d](https://www.tensorflow.org/api_docs/python/tf/nn/conv2d). \n",
    "\n",
    "Let's begin!\n",
    "\n",
    "### Input\n",
    "The neural network needs to read the image data, one-hot encoded labels, and dropout keep probability. Implement the following functions\n",
    "* Implement `neural_net_image_input`\n",
    " * Return a [TF Placeholder](https://www.tensorflow.org/api_docs/python/tf/placeholder)\n",
    " * Set the shape using `image_shape` with batch size set to `None`.\n",
    " * Name the TensorFlow placeholder \"x\" using the TensorFlow `name` parameter in the [TF Placeholder](https://www.tensorflow.org/api_docs/python/tf/placeholder).\n",
    "* Implement `neural_net_label_input`\n",
    " * Return a [TF Placeholder](https://www.tensorflow.org/api_docs/python/tf/placeholder)\n",
    " * Set the shape using `n_classes` with batch size set to `None`.\n",
    " * Name the TensorFlow placeholder \"y\" using the TensorFlow `name` parameter in the [TF Placeholder](https://www.tensorflow.org/api_docs/python/tf/placeholder).\n",
    "* Implement `neural_net_keep_prob_input`\n",
    " * Return a [TF Placeholder](https://www.tensorflow.org/api_docs/python/tf/placeholder) for dropout keep probability.\n",
    " * Name the TensorFlow placeholder \"keep_prob\" using the TensorFlow `name` parameter in the [TF Placeholder](https://www.tensorflow.org/api_docs/python/tf/placeholder).\n",
    "\n",
    "These names will be used at the end of the project to load your saved model.\n",
    "\n",
    "Note: `None` for shapes in TensorFlow allow for a dynamic size."
   ]
  },
  {
   "cell_type": "code",
   "execution_count": 8,
   "metadata": {
    "collapsed": false,
    "deletable": true,
    "editable": true
   },
   "outputs": [
    {
     "name": "stdout",
     "output_type": "stream",
     "text": [
      "Image Input Tests Passed.\n",
      "Label Input Tests Passed.\n",
      "Keep Prob Tests Passed.\n"
     ]
    }
   ],
   "source": [
    "import tensorflow as tf\n",
    "\n",
    "def neural_net_image_input(image_shape):\n",
    "    \"\"\"\n",
    "    Return a Tensor for a bach of image input\n",
    "    : image_shape: Shape of the images\n",
    "    : return: Tensor for image input.\n",
    "    \"\"\"\n",
    "    \n",
    "    return tf.placeholder(tf.float32, shape=(None, image_shape[0], image_shape[1], image_shape[2]), name='x')\n",
    "\n",
    "\n",
    "def neural_net_label_input(n_classes):\n",
    "    \"\"\"\n",
    "    Return a Tensor for a batch of label input\n",
    "    : n_classes: Number of classes\n",
    "    : return: Tensor for label input.\n",
    "    \"\"\"\n",
    "    \n",
    "    return tf.placeholder(tf.float32,(None, n_classes), name='y')\n",
    "\n",
    "\n",
    "def neural_net_keep_prob_input():\n",
    "    \"\"\"\n",
    "    Return a Tensor for keep probability\n",
    "    : return: Tensor for keep probability.\n",
    "    \"\"\"\n",
    "    \n",
    "    return tf.placeholder(tf.float32, name='keep_prob')\n",
    "\n",
    "\n",
    "\"\"\"\n",
    "DON'T MODIFY ANYTHING IN THIS CELL THAT IS BELOW THIS LINE\n",
    "\"\"\"\n",
    "tf.reset_default_graph()\n",
    "tests.test_nn_image_inputs(neural_net_image_input)\n",
    "tests.test_nn_label_inputs(neural_net_label_input)\n",
    "tests.test_nn_keep_prob_inputs(neural_net_keep_prob_input)"
   ]
  },
  {
   "cell_type": "markdown",
   "metadata": {
    "deletable": true,
    "editable": true
   },
   "source": [
    "### Convolution and Max Pooling Layer\n",
    "Convolution layers have a lot of success with images. For this code cell, you should implement the function `conv2d_maxpool` to apply convolution then max pooling:\n",
    "* Create the weight and bias using `conv_ksize`, `conv_num_outputs` and the shape of `x_tensor`.\n",
    "* Apply a convolution to `x_tensor` using weight and `conv_strides`.\n",
    " * We recommend you use same padding, but you're welcome to use any padding.\n",
    "* Add bias\n",
    "* Add a nonlinear activation to the convolution.\n",
    "* Apply Max Pooling using `pool_ksize` and `pool_strides`.\n",
    " * We recommend you use same padding, but you're welcome to use any padding.\n",
    "\n",
    "**Note:** You **can't** use [TensorFlow Layers](https://www.tensorflow.org/api_docs/python/tf/layers) or [TensorFlow Layers (contrib)](https://www.tensorflow.org/api_guides/python/contrib.layers) for **this** layer, but you can still use TensorFlow's [Neural Network](https://www.tensorflow.org/api_docs/python/tf/nn) package. You may still use the shortcut option for all the **other** layers."
   ]
  },
  {
   "cell_type": "code",
   "execution_count": 9,
   "metadata": {
    "collapsed": false,
    "deletable": true,
    "editable": true
   },
   "outputs": [
    {
     "name": "stdout",
     "output_type": "stream",
     "text": [
      "Tests Passed\n"
     ]
    }
   ],
   "source": [
    "def conv2d_maxpool(x_tensor, conv_num_outputs, conv_ksize, conv_strides, pool_ksize, pool_strides):\n",
    "    \"\"\"\n",
    "    Apply convolution then max pooling to x_tensor\n",
    "    :param x_tensor: TensorFlow Tensor\n",
    "    :param conv_num_outputs: Number of outputs for the convolutional layer\n",
    "    :param conv_ksize: kernal size 2-D Tuple for the convolutional layer\n",
    "    :param conv_strides: Stride 2-D Tuple for convolution\n",
    "    :param pool_ksize: kernal size 2-D Tuple for pool\n",
    "    :param pool_strides: Stride 2-D Tuple for pool\n",
    "    : return: A tensor that represents convolution and max pooling of x_tensor\n",
    "    \"\"\"\n",
    "    \n",
    "    # Convolution\n",
    "    input_depth = int(x_tensor.shape[-1])\n",
    "    weight_size = (conv_ksize[0], conv_ksize[1], input_depth, conv_num_outputs)\n",
    "    conv_strides = (1, conv_strides[0], conv_strides[1], 1)\n",
    "    weights = tf.Variable(tf.truncated_normal(weight_size, dtype=tf.float32, stddev=0.1))\n",
    "    bias = tf.Variable(tf.zeros((conv_num_outputs,), dtype=tf.float32))\n",
    "    conv2d_tensor = tf.nn.conv2d(x_tensor, weights, conv_strides, 'SAME') + bias\n",
    "    relu_tensor = tf.nn.relu(conv2d_tensor)\n",
    "    \n",
    "    # Maxpooling\n",
    "    pool_ksize = (1, pool_ksize[0], pool_ksize[1], 1)\n",
    "    pool_strides = (1, pool_strides[0], pool_strides[1], 1)\n",
    "    max_tensor = tf.nn.max_pool(relu_tensor, pool_ksize, pool_strides, 'SAME')\n",
    "    \n",
    "    return max_tensor\n",
    "\n",
    "\n",
    "\"\"\"\n",
    "DON'T MODIFY ANYTHING IN THIS CELL THAT IS BELOW THIS LINE\n",
    "\"\"\"\n",
    "tests.test_con_pool(conv2d_maxpool)\n"
   ]
  },
  {
   "cell_type": "markdown",
   "metadata": {
    "deletable": true,
    "editable": true
   },
   "source": [
    "### Flatten Layer\n",
    "Implement the `flatten` function to change the dimension of `x_tensor` from a 4-D tensor to a 2-D tensor.  The output should be the shape (*Batch Size*, *Flattened Image Size*). Shortcut option: you can use classes from the [TensorFlow Layers](https://www.tensorflow.org/api_docs/python/tf/layers) or [TensorFlow Layers (contrib)](https://www.tensorflow.org/api_guides/python/contrib.layers) packages for this layer. For more of a challenge, only use other TensorFlow packages."
   ]
  },
  {
   "cell_type": "code",
   "execution_count": 10,
   "metadata": {
    "collapsed": false,
    "deletable": true,
    "editable": true
   },
   "outputs": [
    {
     "name": "stdout",
     "output_type": "stream",
     "text": [
      "Tests Passed\n"
     ]
    }
   ],
   "source": [
    "def flatten(x_tensor):\n",
    "    \"\"\"\n",
    "    Flatten x_tensor to (Batch Size, Flattened Image Size)\n",
    "    : x_tensor: A tensor of size (Batch Size, ...), where ... are the image dimensions.\n",
    "    : return: A tensor of size (Batch Size, Flattened Image Size).\n",
    "    \"\"\"\n",
    "\n",
    "    # Skipping the batch dimension\n",
    "    static_dimensions = x_tensor.shape[1:]\n",
    "    \n",
    "    flatten_image_size = 1\n",
    "    for dimension in static_dimensions:\n",
    "        flatten_image_size *= int(dimension)\n",
    "    \n",
    "    # Only using basic TensorFlow    \n",
    "    return tf.reshape(x_tensor, [-1, flatten_image_size])\n",
    "\n",
    "\n",
    "\"\"\"\n",
    "DON'T MODIFY ANYTHING IN THIS CELL THAT IS BELOW THIS LINE\n",
    "\"\"\"\n",
    "tests.test_flatten(flatten)"
   ]
  },
  {
   "cell_type": "markdown",
   "metadata": {
    "deletable": true,
    "editable": true
   },
   "source": [
    "### Fully-Connected Layer\n",
    "Implement the `fully_conn` function to apply a fully connected layer to `x_tensor` with the shape (*Batch Size*, *num_outputs*). Shortcut option: you can use classes from the [TensorFlow Layers](https://www.tensorflow.org/api_docs/python/tf/layers) or [TensorFlow Layers (contrib)](https://www.tensorflow.org/api_guides/python/contrib.layers) packages for this layer. For more of a challenge, only use other TensorFlow packages."
   ]
  },
  {
   "cell_type": "code",
   "execution_count": 11,
   "metadata": {
    "collapsed": false,
    "deletable": true,
    "editable": true
   },
   "outputs": [
    {
     "name": "stdout",
     "output_type": "stream",
     "text": [
      "Tests Passed\n"
     ]
    }
   ],
   "source": [
    "def fully_conn(x_tensor, n_outputs):\n",
    "    \"\"\"\n",
    "    Apply a fully connected layer to x_tensor using weight and bias\n",
    "    : x_tensor: A 2-D tensor where the first dimension is batch size.\n",
    "    : num_outputs: The number of output that the new tensor should be.\n",
    "    : return: A 2-D tensor where the second dimension is num_outputs.\n",
    "    \"\"\"\n",
    "    \n",
    "    n_inputs = int(x_tensor.shape[1])\n",
    "    weight_shape = (n_inputs, n_outputs)\n",
    "    weights = tf.Variable(tf.truncated_normal(weight_shape, stddev=0.1, dtype=tf.float32))\n",
    "    bias = tf.Variable(tf.zeros(n_outputs), dtype=tf.float32)\n",
    "    logits = tf.add(tf.matmul(x_tensor, weights), bias)\n",
    "    activation = tf.nn.relu(logits)\n",
    "    \n",
    "    return activation\n",
    "\n",
    "\n",
    "\"\"\"\n",
    "DON'T MODIFY ANYTHING IN THIS CELL THAT IS BELOW THIS LINE\n",
    "\"\"\"\n",
    "tests.test_fully_conn(fully_conn)"
   ]
  },
  {
   "cell_type": "markdown",
   "metadata": {
    "deletable": true,
    "editable": true
   },
   "source": [
    "### Output Layer\n",
    "Implement the `output` function to apply a fully connected layer to `x_tensor` with the shape (*Batch Size*, *num_outputs*). Shortcut option: you can use classes from the [TensorFlow Layers](https://www.tensorflow.org/api_docs/python/tf/layers) or [TensorFlow Layers (contrib)](https://www.tensorflow.org/api_guides/python/contrib.layers) packages for this layer. For more of a challenge, only use other TensorFlow packages.\n",
    "\n",
    "**Note:** Activation, softmax, or cross entropy should **not** be applied to this."
   ]
  },
  {
   "cell_type": "code",
   "execution_count": 12,
   "metadata": {
    "collapsed": false,
    "deletable": true,
    "editable": true
   },
   "outputs": [
    {
     "name": "stdout",
     "output_type": "stream",
     "text": [
      "Tests Passed\n"
     ]
    }
   ],
   "source": [
    "def output(x_tensor, n_outputs):\n",
    "    \"\"\"\n",
    "    Apply a output layer to x_tensor using weight and bias\n",
    "    : x_tensor: A 2-D tensor where the first dimension is batch size.\n",
    "    : num_outputs: The number of output that the new tensor should be.\n",
    "    : return: A 2-D tensor where the second dimension is num_outputs.\n",
    "    \"\"\"\n",
    "    n_inputs = int(x_tensor.shape[1])\n",
    "    weight_shape = (n_inputs, n_outputs)\n",
    "    weights = tf.Variable(tf.truncated_normal(weight_shape, stddev=0.1, dtype=tf.float32))\n",
    "    bias = tf.Variable(tf.zeros(n_outputs), dtype=tf.float32)\n",
    "    output = tf.add(tf.matmul(x_tensor, weights), bias)\n",
    "    \n",
    "    return output\n",
    "\n",
    "\n",
    "\"\"\"\n",
    "DON'T MODIFY ANYTHING IN THIS CELL THAT IS BELOW THIS LINE\n",
    "\"\"\"\n",
    "tests.test_output(output)"
   ]
  },
  {
   "cell_type": "markdown",
   "metadata": {
    "deletable": true,
    "editable": true
   },
   "source": [
    "### Create Convolutional Model\n",
    "Implement the function `conv_net` to create a convolutional neural network model. The function takes in a batch of images, `x`, and outputs logits.  Use the layers you created above to create this model:\n",
    "\n",
    "* Apply 1, 2, or 3 Convolution and Max Pool layers\n",
    "* Apply a Flatten Layer\n",
    "* Apply 1, 2, or 3 Fully Connected Layers\n",
    "* Apply an Output Layer\n",
    "* Return the output\n",
    "* Apply [TensorFlow's Dropout](https://www.tensorflow.org/api_docs/python/tf/nn/dropout) to one or more layers in the model using `keep_prob`. "
   ]
  },
  {
   "cell_type": "code",
   "execution_count": 13,
   "metadata": {
    "collapsed": false,
    "deletable": true,
    "editable": true
   },
   "outputs": [
    {
     "name": "stdout",
     "output_type": "stream",
     "text": [
      "Neural Network Built!\n"
     ]
    }
   ],
   "source": [
    "def conv_net(x, keep_prob):\n",
    "    \"\"\"\n",
    "    Create a convolutional neural network model\n",
    "    : x: Placeholder tensor that holds image data.\n",
    "    : keep_prob: Placeholder tensor that hold dropout keep probability.\n",
    "    : return: Tensor that represents logits\n",
    "    \"\"\"\n",
    "    \n",
    "    # Apply 1, 2, or 3 Convolution and Max Pool layers\n",
    "    # Play around with different number of outputs, kernel size and stride\n",
    "    conv_stride = (1,1)\n",
    "    pool_size = (2,2)\n",
    "    pool_stride = pool_size\n",
    "    model = x\n",
    "    model = conv2d_maxpool(model, 64, (2,2), conv_stride, pool_size, pool_stride)\n",
    "    model = conv2d_maxpool(model, 64, (2,2), conv_stride, pool_size, pool_stride)\n",
    "    model = conv2d_maxpool(model, 64, (2,2), conv_stride, pool_size, pool_stride)\n",
    "    \n",
    "    \n",
    "    #  Apply a Flatten Layer    \n",
    "    model = flatten(model)\n",
    "\n",
    "    # Apply 1, 2, or 3 Fully Connected Layers\n",
    "    # Play around with different number of outputs\n",
    "    #model = fully_conn(model, 40)\n",
    "    #model = fully_conn(model, 20)\n",
    "    #model = fully_conn(model, 10)\n",
    "    \n",
    "    # Apply dropout\n",
    "    #model = tf.nn.dropout(model, keep_prob)\n",
    "    \n",
    "    # Apply an Output Layer\n",
    "    n_outputs = 10\n",
    "    model = output(model, n_outputs)\n",
    "    \n",
    "    return model\n",
    "\n",
    "\"\"\"\n",
    "DON'T MODIFY ANYTHING IN THIS CELL THAT IS BELOW THIS LINE\n",
    "\"\"\"\n",
    "\n",
    "##############################\n",
    "## Build the Neural Network ##\n",
    "##############################\n",
    "\n",
    "# Remove previous weights, bias, inputs, etc..\n",
    "tf.reset_default_graph()\n",
    "\n",
    "# Inputs\n",
    "x = neural_net_image_input((32, 32, 3))\n",
    "y = neural_net_label_input(10)\n",
    "keep_prob = neural_net_keep_prob_input()\n",
    "\n",
    "# Model\n",
    "logits = conv_net(x, keep_prob)\n",
    "\n",
    "# Name logits Tensor, so that is can be loaded from disk after training\n",
    "logits = tf.identity(logits, name='logits')\n",
    "\n",
    "# Loss and Optimizer\n",
    "cost = tf.reduce_mean(tf.nn.softmax_cross_entropy_with_logits(logits=logits, labels=y))\n",
    "optimizer = tf.train.AdamOptimizer().minimize(cost)\n",
    "\n",
    "# Accuracy\n",
    "correct_pred = tf.equal(tf.argmax(logits, 1), tf.argmax(y, 1))\n",
    "accuracy = tf.reduce_mean(tf.cast(correct_pred, tf.float32), name='accuracy')\n",
    "\n",
    "tests.test_conv_net(conv_net)"
   ]
  },
  {
   "cell_type": "markdown",
   "metadata": {
    "deletable": true,
    "editable": true
   },
   "source": [
    "## Train the Neural Network\n",
    "### Single Optimization\n",
    "Implement the function `train_neural_network` to do a single optimization.  The optimization should use `optimizer` to optimize in `session` with a `feed_dict` of the following:\n",
    "* `x` for image input\n",
    "* `y` for labels\n",
    "* `keep_prob` for keep probability for dropout\n",
    "\n",
    "This function will be called for each batch, so `tf.global_variables_initializer()` has already been called.\n",
    "\n",
    "Note: Nothing needs to be returned. This function is only optimizing the neural network."
   ]
  },
  {
   "cell_type": "code",
   "execution_count": 14,
   "metadata": {
    "collapsed": false,
    "deletable": true,
    "editable": true
   },
   "outputs": [
    {
     "name": "stdout",
     "output_type": "stream",
     "text": [
      "Tests Passed\n"
     ]
    }
   ],
   "source": [
    "def train_neural_network(session, optimizer, keep_probability, feature_batch, label_batch):\n",
    "    \"\"\"\n",
    "    Optimize the session on a batch of images and labels\n",
    "    : session: Current TensorFlow session\n",
    "    : optimizer: TensorFlow optimizer function\n",
    "    : keep_probability: keep probability\n",
    "    : feature_batch: Batch of Numpy image data\n",
    "    : label_batch: Batch of Numpy label data\n",
    "    \"\"\"\n",
    "    \n",
    "    session.run(optimizer, feed_dict={keep_prob:keep_probability, x:feature_batch, y:label_batch})\n",
    "\n",
    "\n",
    "\"\"\"\n",
    "DON'T MODIFY ANYTHING IN THIS CELL THAT IS BELOW THIS LINE\n",
    "\"\"\"\n",
    "tests.test_train_nn(train_neural_network)"
   ]
  },
  {
   "cell_type": "markdown",
   "metadata": {
    "deletable": true,
    "editable": true
   },
   "source": [
    "### Show Stats\n",
    "Implement the function `print_stats` to print loss and validation accuracy.  Use the global variables `valid_features` and `valid_labels` to calculate validation accuracy.  Use a keep probability of `1.0` to calculate the loss and validation accuracy."
   ]
  },
  {
   "cell_type": "code",
   "execution_count": 54,
   "metadata": {
    "collapsed": false,
    "deletable": true,
    "editable": true
   },
   "outputs": [],
   "source": [
    "def print_stats(session, feature_batch, label_batch, cost_function, accuracy_function):\n",
    "    \"\"\"\n",
    "    Print information about loss and validation accuracy\n",
    "    : session: Current TensorFlow session\n",
    "    : feature_batch: Batch of Numpy image data\n",
    "    : label_batch: Batch of Numpy label data\n",
    "    : cost: TensorFlow cost function\n",
    "    : accuracy: TensorFlow accuracy function\n",
    "    \"\"\"\n",
    "    \n",
    "    training_cost = session.run(cost_function, feed_dict={x:feature_batch, y:label_batch, keep_prob:1.0})\n",
    "    training_accuracy = session.run(accuracy_function, feed_dict={x:feature_batch, y:label_batch, keep_prob:1.0})\n",
    "    \n",
    "    validation_cost = session.run(cost_function, feed_dict={x:valid_features, y:valid_labels, keep_prob:1.0})\n",
    "    validation_accuracy = session.run(accuracy_function, feed_dict={x:valid_features, y:valid_labels, keep_prob:1.0})\n",
    "    \n",
    "    stats = 'Cost: {:6.3f} / {:6.3f}, \\t Accuracy: {:6.5f} / {:6.5f} \\t (Training/Validation)'\n",
    "    print(stats.format(training_cost, validation_cost, training_accuracy, validation_accuracy))"
   ]
  },
  {
   "cell_type": "markdown",
   "metadata": {
    "deletable": true,
    "editable": true
   },
   "source": [
    "### Hyperparameters\n",
    "Tune the following parameters:\n",
    "* Set `epochs` to the number of iterations until the network stops learning or start overfitting\n",
    "* Set `batch_size` to the highest number that your machine has memory for.  Most people set them to common sizes of memory:\n",
    " * 64\n",
    " * 128\n",
    " * 256\n",
    " * ...\n",
    "* Set `keep_probability` to the probability of keeping a node using dropout"
   ]
  },
  {
   "cell_type": "code",
   "execution_count": 39,
   "metadata": {
    "collapsed": true,
    "deletable": true,
    "editable": true
   },
   "outputs": [],
   "source": [
    "epochs = 50\n",
    "batch_size = 256\n",
    "keep_probability = 1.0"
   ]
  },
  {
   "cell_type": "markdown",
   "metadata": {
    "deletable": true,
    "editable": true
   },
   "source": [
    "### Train on a Single CIFAR-10 Batch\n",
    "Instead of training the neural network on all the CIFAR-10 batches of data, let's use a single batch. This should save time while you iterate on the model to get a better accuracy.  Once the final validation accuracy is 50% or greater, run the model on all the data in the next section."
   ]
  },
  {
   "cell_type": "code",
   "execution_count": 55,
   "metadata": {
    "collapsed": false,
    "deletable": true,
    "editable": true
   },
   "outputs": [
    {
     "name": "stdout",
     "output_type": "stream",
     "text": [
      "Checking the Training on a Single Batch...\n",
      "Epoch  1, CIFAR-10 Batch 1:  Cost:  2.059 /  1.983, \t Accuracy: 0.27500 / 0.29880 \t (Training/Validation)\n",
      "Epoch  2, CIFAR-10 Batch 1:  Cost:  1.873 /  1.767, \t Accuracy: 0.42500 / 0.37560 \t (Training/Validation)\n",
      "Epoch  3, CIFAR-10 Batch 1:  Cost:  1.696 /  1.649, \t Accuracy: 0.47500 / 0.42300 \t (Training/Validation)\n",
      "Epoch  4, CIFAR-10 Batch 1:  Cost:  1.579 /  1.558, \t Accuracy: 0.52500 / 0.45500 \t (Training/Validation)\n",
      "Epoch  5, CIFAR-10 Batch 1:  Cost:  1.459 /  1.502, \t Accuracy: 0.57500 / 0.47000 \t (Training/Validation)\n",
      "Epoch  6, CIFAR-10 Batch 1:  Cost:  1.350 /  1.456, \t Accuracy: 0.57500 / 0.48140 \t (Training/Validation)\n",
      "Epoch  7, CIFAR-10 Batch 1:  Cost:  1.261 /  1.415, \t Accuracy: 0.57500 / 0.50000 \t (Training/Validation)\n",
      "Epoch  8, CIFAR-10 Batch 1:  Cost:  1.190 /  1.372, \t Accuracy: 0.60000 / 0.51220 \t (Training/Validation)\n",
      "Epoch  9, CIFAR-10 Batch 1:  Cost:  1.125 /  1.340, \t Accuracy: 0.60000 / 0.52500 \t (Training/Validation)\n",
      "Epoch 10, CIFAR-10 Batch 1:  Cost:  1.053 /  1.321, \t Accuracy: 0.75000 / 0.53220 \t (Training/Validation)\n",
      "Epoch 11, CIFAR-10 Batch 1:  Cost:  0.984 /  1.308, \t Accuracy: 0.75000 / 0.53520 \t (Training/Validation)\n",
      "Epoch 12, CIFAR-10 Batch 1:  Cost:  0.930 /  1.299, \t Accuracy: 0.77500 / 0.53960 \t (Training/Validation)\n",
      "Epoch 13, CIFAR-10 Batch 1:  Cost:  0.873 /  1.288, \t Accuracy: 0.80000 / 0.54700 \t (Training/Validation)\n",
      "Epoch 14, CIFAR-10 Batch 1:  Cost:  0.826 /  1.275, \t Accuracy: 0.82500 / 0.55040 \t (Training/Validation)\n",
      "Epoch 15, CIFAR-10 Batch 1:  Cost:  0.781 /  1.265, \t Accuracy: 0.82500 / 0.55840 \t (Training/Validation)\n",
      "Epoch 16, CIFAR-10 Batch 1:  Cost:  0.738 /  1.259, \t Accuracy: 0.82500 / 0.56400 \t (Training/Validation)\n",
      "Epoch 17, CIFAR-10 Batch 1:  Cost:  0.705 /  1.250, \t Accuracy: 0.82500 / 0.56680 \t (Training/Validation)\n",
      "Epoch 18, CIFAR-10 Batch 1:  Cost:  0.669 /  1.244, \t Accuracy: 0.82500 / 0.56960 \t (Training/Validation)\n",
      "Epoch 19, CIFAR-10 Batch 1:  Cost:  0.632 /  1.239, \t Accuracy: 0.82500 / 0.57180 \t (Training/Validation)\n",
      "Epoch 20, CIFAR-10 Batch 1:  Cost:  0.606 /  1.237, \t Accuracy: 0.87500 / 0.57340 \t (Training/Validation)\n",
      "Epoch 21, CIFAR-10 Batch 1:  Cost:  0.573 /  1.240, \t Accuracy: 0.90000 / 0.57320 \t (Training/Validation)\n",
      "Epoch 22, CIFAR-10 Batch 1:  Cost:  0.543 /  1.232, \t Accuracy: 0.92500 / 0.57820 \t (Training/Validation)\n",
      "Epoch 23, CIFAR-10 Batch 1:  Cost:  0.509 /  1.225, \t Accuracy: 0.92500 / 0.57880 \t (Training/Validation)\n",
      "Epoch 24, CIFAR-10 Batch 1:  Cost:  0.478 /  1.219, \t Accuracy: 0.92500 / 0.58180 \t (Training/Validation)\n",
      "Epoch 25, CIFAR-10 Batch 1:  Cost:  0.450 /  1.220, \t Accuracy: 0.95000 / 0.58540 \t (Training/Validation)\n",
      "Epoch 26, CIFAR-10 Batch 1:  Cost:  0.424 /  1.224, \t Accuracy: 0.95000 / 0.58560 \t (Training/Validation)\n",
      "Epoch 27, CIFAR-10 Batch 1:  Cost:  0.404 /  1.227, \t Accuracy: 0.95000 / 0.58740 \t (Training/Validation)\n",
      "Epoch 28, CIFAR-10 Batch 1:  Cost:  0.380 /  1.234, \t Accuracy: 0.95000 / 0.58380 \t (Training/Validation)\n",
      "Epoch 29, CIFAR-10 Batch 1:  Cost:  0.357 /  1.230, \t Accuracy: 0.95000 / 0.58940 \t (Training/Validation)\n",
      "Epoch 30, CIFAR-10 Batch 1:  Cost:  0.342 /  1.205, \t Accuracy: 0.95000 / 0.59420 \t (Training/Validation)\n",
      "Epoch 31, CIFAR-10 Batch 1:  Cost:  0.338 /  1.211, \t Accuracy: 0.95000 / 0.59280 \t (Training/Validation)\n",
      "Epoch 32, CIFAR-10 Batch 1:  Cost:  0.314 /  1.206, \t Accuracy: 0.95000 / 0.59620 \t (Training/Validation)\n",
      "Epoch 33, CIFAR-10 Batch 1:  Cost:  0.291 /  1.207, \t Accuracy: 0.97500 / 0.60020 \t (Training/Validation)\n",
      "Epoch 34, CIFAR-10 Batch 1:  Cost:  0.274 /  1.211, \t Accuracy: 0.97500 / 0.60060 \t (Training/Validation)\n",
      "Epoch 35, CIFAR-10 Batch 1:  Cost:  0.258 /  1.215, \t Accuracy: 0.97500 / 0.60040 \t (Training/Validation)\n",
      "Epoch 36, CIFAR-10 Batch 1:  Cost:  0.244 /  1.220, \t Accuracy: 0.97500 / 0.59860 \t (Training/Validation)\n",
      "Epoch 37, CIFAR-10 Batch 1:  Cost:  0.231 /  1.227, \t Accuracy: 0.97500 / 0.59800 \t (Training/Validation)\n",
      "Epoch 38, CIFAR-10 Batch 1:  Cost:  0.217 /  1.230, \t Accuracy: 0.97500 / 0.59940 \t (Training/Validation)\n",
      "Epoch 39, CIFAR-10 Batch 1:  Cost:  0.206 /  1.235, \t Accuracy: 0.97500 / 0.59840 \t (Training/Validation)\n",
      "Epoch 40, CIFAR-10 Batch 1:  Cost:  0.196 /  1.240, \t Accuracy: 0.97500 / 0.59940 \t (Training/Validation)\n",
      "Epoch 41, CIFAR-10 Batch 1:  Cost:  0.186 /  1.244, \t Accuracy: 0.97500 / 0.60100 \t (Training/Validation)\n",
      "Epoch 42, CIFAR-10 Batch 1:  Cost:  0.178 /  1.248, \t Accuracy: 1.00000 / 0.60200 \t (Training/Validation)\n",
      "Epoch 43, CIFAR-10 Batch 1:  Cost:  0.170 /  1.253, \t Accuracy: 1.00000 / 0.60260 \t (Training/Validation)\n",
      "Epoch 44, CIFAR-10 Batch 1:  Cost:  0.161 /  1.257, \t Accuracy: 1.00000 / 0.60040 \t (Training/Validation)\n",
      "Epoch 45, CIFAR-10 Batch 1:  Cost:  0.146 /  1.256, \t Accuracy: 1.00000 / 0.60260 \t (Training/Validation)\n",
      "Epoch 46, CIFAR-10 Batch 1:  Cost:  0.136 /  1.266, \t Accuracy: 1.00000 / 0.60260 \t (Training/Validation)\n",
      "Epoch 47, CIFAR-10 Batch 1:  Cost:  0.139 /  1.293, \t Accuracy: 1.00000 / 0.59780 \t (Training/Validation)\n",
      "Epoch 48, CIFAR-10 Batch 1:  Cost:  0.135 /  1.278, \t Accuracy: 1.00000 / 0.60000 \t (Training/Validation)\n",
      "Epoch 49, CIFAR-10 Batch 1:  Cost:  0.127 /  1.270, \t Accuracy: 1.00000 / 0.60240 \t (Training/Validation)\n",
      "Epoch 50, CIFAR-10 Batch 1:  Cost:  0.122 /  1.278, \t Accuracy: 1.00000 / 0.60140 \t (Training/Validation)\n"
     ]
    }
   ],
   "source": [
    "\"\"\"\n",
    "DON'T MODIFY ANYTHING IN THIS CELL\n",
    "\"\"\"\n",
    "print('Checking the Training on a Single Batch...')\n",
    "with tf.Session() as sess:\n",
    "    # Initializing the variables\n",
    "    sess.run(tf.global_variables_initializer())\n",
    "    \n",
    "    # Training cycle\n",
    "    for epoch in range(epochs):\n",
    "        batch_i = 1\n",
    "        for batch_features, batch_labels in helper.load_preprocess_training_batch(batch_i, batch_size):\n",
    "            train_neural_network(sess, optimizer, keep_probability, batch_features, batch_labels)\n",
    "        print('Epoch {:>2}, CIFAR-10 Batch {}:  '.format(epoch + 1, batch_i), end='')\n",
    "        print_stats(sess, batch_features, batch_labels, cost, accuracy)"
   ]
  },
  {
   "cell_type": "markdown",
   "metadata": {
    "deletable": true,
    "editable": true
   },
   "source": [
    "### Fully Train the Model\n",
    "Now that you got a good accuracy with a single CIFAR-10 batch, try it with all five batches."
   ]
  },
  {
   "cell_type": "code",
   "execution_count": 56,
   "metadata": {
    "collapsed": false,
    "deletable": true,
    "editable": true
   },
   "outputs": [
    {
     "name": "stdout",
     "output_type": "stream",
     "text": [
      "Training...\n",
      "Epoch  1, CIFAR-10 Batch 1:  Cost:  2.112 /  1.985, \t Accuracy: 0.17500 / 0.30540 \t (Training/Validation)\n",
      "Epoch  1, CIFAR-10 Batch 2:  Cost:  1.809 /  1.764, \t Accuracy: 0.37500 / 0.37620 \t (Training/Validation)\n",
      "Epoch  1, CIFAR-10 Batch 3:  Cost:  1.423 /  1.643, \t Accuracy: 0.47500 / 0.42120 \t (Training/Validation)\n",
      "Epoch  1, CIFAR-10 Batch 4:  Cost:  1.575 /  1.534, \t Accuracy: 0.42500 / 0.45200 \t (Training/Validation)\n",
      "Epoch  1, CIFAR-10 Batch 5:  Cost:  1.467 /  1.475, \t Accuracy: 0.50000 / 0.47360 \t (Training/Validation)\n",
      "Epoch  2, CIFAR-10 Batch 1:  Cost:  1.627 /  1.444, \t Accuracy: 0.47500 / 0.48840 \t (Training/Validation)\n",
      "Epoch  2, CIFAR-10 Batch 2:  Cost:  1.291 /  1.400, \t Accuracy: 0.57500 / 0.49460 \t (Training/Validation)\n",
      "Epoch  2, CIFAR-10 Batch 3:  Cost:  1.101 /  1.406, \t Accuracy: 0.65000 / 0.49920 \t (Training/Validation)\n",
      "Epoch  2, CIFAR-10 Batch 4:  Cost:  1.277 /  1.345, \t Accuracy: 0.55000 / 0.52340 \t (Training/Validation)\n",
      "Epoch  2, CIFAR-10 Batch 5:  Cost:  1.247 /  1.338, \t Accuracy: 0.57500 / 0.52620 \t (Training/Validation)\n",
      "Epoch  3, CIFAR-10 Batch 1:  Cost:  1.429 /  1.299, \t Accuracy: 0.57500 / 0.54360 \t (Training/Validation)\n",
      "Epoch  3, CIFAR-10 Batch 2:  Cost:  1.125 /  1.269, \t Accuracy: 0.52500 / 0.55220 \t (Training/Validation)\n",
      "Epoch  3, CIFAR-10 Batch 3:  Cost:  0.942 /  1.268, \t Accuracy: 0.70000 / 0.54880 \t (Training/Validation)\n",
      "Epoch  3, CIFAR-10 Batch 4:  Cost:  1.077 /  1.267, \t Accuracy: 0.70000 / 0.55020 \t (Training/Validation)\n",
      "Epoch  3, CIFAR-10 Batch 5:  Cost:  1.161 /  1.260, \t Accuracy: 0.60000 / 0.56160 \t (Training/Validation)\n",
      "Epoch  4, CIFAR-10 Batch 1:  Cost:  1.295 /  1.214, \t Accuracy: 0.65000 / 0.57420 \t (Training/Validation)\n",
      "Epoch  4, CIFAR-10 Batch 2:  Cost:  1.024 /  1.195, \t Accuracy: 0.60000 / 0.58400 \t (Training/Validation)\n",
      "Epoch  4, CIFAR-10 Batch 3:  Cost:  0.832 /  1.202, \t Accuracy: 0.72500 / 0.57740 \t (Training/Validation)\n",
      "Epoch  4, CIFAR-10 Batch 4:  Cost:  0.958 /  1.186, \t Accuracy: 0.67500 / 0.58140 \t (Training/Validation)\n",
      "Epoch  4, CIFAR-10 Batch 5:  Cost:  1.065 /  1.192, \t Accuracy: 0.60000 / 0.58640 \t (Training/Validation)\n",
      "Epoch  5, CIFAR-10 Batch 1:  Cost:  1.208 /  1.156, \t Accuracy: 0.67500 / 0.59840 \t (Training/Validation)\n",
      "Epoch  5, CIFAR-10 Batch 2:  Cost:  0.900 /  1.168, \t Accuracy: 0.60000 / 0.58640 \t (Training/Validation)\n",
      "Epoch  5, CIFAR-10 Batch 3:  Cost:  0.734 /  1.131, \t Accuracy: 0.77500 / 0.59660 \t (Training/Validation)\n",
      "Epoch  5, CIFAR-10 Batch 4:  Cost:  0.872 /  1.120, \t Accuracy: 0.67500 / 0.60900 \t (Training/Validation)\n",
      "Epoch  5, CIFAR-10 Batch 5:  Cost:  0.977 /  1.148, \t Accuracy: 0.65000 / 0.59920 \t (Training/Validation)\n",
      "Epoch  6, CIFAR-10 Batch 1:  Cost:  1.120 /  1.112, \t Accuracy: 0.67500 / 0.61320 \t (Training/Validation)\n",
      "Epoch  6, CIFAR-10 Batch 2:  Cost:  0.810 /  1.153, \t Accuracy: 0.67500 / 0.59520 \t (Training/Validation)\n",
      "Epoch  6, CIFAR-10 Batch 3:  Cost:  0.644 /  1.085, \t Accuracy: 0.80000 / 0.61680 \t (Training/Validation)\n",
      "Epoch  6, CIFAR-10 Batch 4:  Cost:  0.811 /  1.069, \t Accuracy: 0.72500 / 0.62380 \t (Training/Validation)\n",
      "Epoch  6, CIFAR-10 Batch 5:  Cost:  0.889 /  1.089, \t Accuracy: 0.70000 / 0.61660 \t (Training/Validation)\n",
      "Epoch  7, CIFAR-10 Batch 1:  Cost:  1.021 /  1.061, \t Accuracy: 0.70000 / 0.63080 \t (Training/Validation)\n",
      "Epoch  7, CIFAR-10 Batch 2:  Cost:  0.745 /  1.108, \t Accuracy: 0.75000 / 0.61460 \t (Training/Validation)\n",
      "Epoch  7, CIFAR-10 Batch 3:  Cost:  0.582 /  1.058, \t Accuracy: 0.82500 / 0.63000 \t (Training/Validation)\n",
      "Epoch  7, CIFAR-10 Batch 4:  Cost:  0.760 /  1.036, \t Accuracy: 0.77500 / 0.63660 \t (Training/Validation)\n",
      "Epoch  7, CIFAR-10 Batch 5:  Cost:  0.813 /  1.055, \t Accuracy: 0.72500 / 0.62900 \t (Training/Validation)\n",
      "Epoch  8, CIFAR-10 Batch 1:  Cost:  0.937 /  1.027, \t Accuracy: 0.67500 / 0.64700 \t (Training/Validation)\n",
      "Epoch  8, CIFAR-10 Batch 2:  Cost:  0.684 /  1.074, \t Accuracy: 0.80000 / 0.62480 \t (Training/Validation)\n",
      "Epoch  8, CIFAR-10 Batch 3:  Cost:  0.539 /  1.034, \t Accuracy: 0.87500 / 0.64260 \t (Training/Validation)\n",
      "Epoch  8, CIFAR-10 Batch 4:  Cost:  0.704 /  1.011, \t Accuracy: 0.77500 / 0.64340 \t (Training/Validation)\n",
      "Epoch  8, CIFAR-10 Batch 5:  Cost:  0.742 /  1.017, \t Accuracy: 0.77500 / 0.64400 \t (Training/Validation)\n",
      "Epoch  9, CIFAR-10 Batch 1:  Cost:  0.864 /  1.001, \t Accuracy: 0.67500 / 0.65420 \t (Training/Validation)\n",
      "Epoch  9, CIFAR-10 Batch 2:  Cost:  0.623 /  1.045, \t Accuracy: 0.80000 / 0.63840 \t (Training/Validation)\n",
      "Epoch  9, CIFAR-10 Batch 3:  Cost:  0.507 /  1.009, \t Accuracy: 0.87500 / 0.64920 \t (Training/Validation)\n",
      "Epoch  9, CIFAR-10 Batch 4:  Cost:  0.649 /  0.987, \t Accuracy: 0.80000 / 0.65180 \t (Training/Validation)\n",
      "Epoch  9, CIFAR-10 Batch 5:  Cost:  0.682 /  0.989, \t Accuracy: 0.80000 / 0.65280 \t (Training/Validation)\n",
      "Epoch 10, CIFAR-10 Batch 1:  Cost:  0.792 /  0.978, \t Accuracy: 0.70000 / 0.65980 \t (Training/Validation)\n",
      "Epoch 10, CIFAR-10 Batch 2:  Cost:  0.577 /  1.020, \t Accuracy: 0.85000 / 0.64240 \t (Training/Validation)\n",
      "Epoch 10, CIFAR-10 Batch 3:  Cost:  0.476 /  0.984, \t Accuracy: 0.90000 / 0.65680 \t (Training/Validation)\n",
      "Epoch 10, CIFAR-10 Batch 4:  Cost:  0.602 /  0.968, \t Accuracy: 0.87500 / 0.66200 \t (Training/Validation)\n",
      "Epoch 10, CIFAR-10 Batch 5:  Cost:  0.636 /  0.974, \t Accuracy: 0.82500 / 0.65700 \t (Training/Validation)\n",
      "Epoch 11, CIFAR-10 Batch 1:  Cost:  0.733 /  0.964, \t Accuracy: 0.75000 / 0.66160 \t (Training/Validation)\n",
      "Epoch 11, CIFAR-10 Batch 2:  Cost:  0.532 /  1.001, \t Accuracy: 0.87500 / 0.65120 \t (Training/Validation)\n",
      "Epoch 11, CIFAR-10 Batch 3:  Cost:  0.452 /  0.965, \t Accuracy: 0.90000 / 0.66520 \t (Training/Validation)\n",
      "Epoch 11, CIFAR-10 Batch 4:  Cost:  0.561 /  0.950, \t Accuracy: 0.90000 / 0.66920 \t (Training/Validation)\n",
      "Epoch 11, CIFAR-10 Batch 5:  Cost:  0.589 /  0.963, \t Accuracy: 0.87500 / 0.66140 \t (Training/Validation)\n",
      "Epoch 12, CIFAR-10 Batch 1:  Cost:  0.686 /  0.949, \t Accuracy: 0.77500 / 0.66580 \t (Training/Validation)\n",
      "Epoch 12, CIFAR-10 Batch 2:  Cost:  0.496 /  0.985, \t Accuracy: 0.87500 / 0.65880 \t (Training/Validation)\n",
      "Epoch 12, CIFAR-10 Batch 3:  Cost:  0.429 /  0.946, \t Accuracy: 0.87500 / 0.67480 \t (Training/Validation)\n",
      "Epoch 12, CIFAR-10 Batch 4:  Cost:  0.527 /  0.936, \t Accuracy: 0.90000 / 0.67540 \t (Training/Validation)\n",
      "Epoch 12, CIFAR-10 Batch 5:  Cost:  0.551 /  0.949, \t Accuracy: 0.92500 / 0.66760 \t (Training/Validation)\n",
      "Epoch 13, CIFAR-10 Batch 1:  Cost:  0.640 /  0.937, \t Accuracy: 0.77500 / 0.67060 \t (Training/Validation)\n",
      "Epoch 13, CIFAR-10 Batch 2:  Cost:  0.462 /  0.969, \t Accuracy: 0.90000 / 0.66800 \t (Training/Validation)\n",
      "Epoch 13, CIFAR-10 Batch 3:  Cost:  0.409 /  0.930, \t Accuracy: 0.90000 / 0.68300 \t (Training/Validation)\n",
      "Epoch 13, CIFAR-10 Batch 4:  Cost:  0.486 /  0.922, \t Accuracy: 0.90000 / 0.68080 \t (Training/Validation)\n",
      "Epoch 13, CIFAR-10 Batch 5:  Cost:  0.523 /  0.940, \t Accuracy: 0.92500 / 0.67060 \t (Training/Validation)\n",
      "Epoch 14, CIFAR-10 Batch 1:  Cost:  0.598 /  0.925, \t Accuracy: 0.82500 / 0.67280 \t (Training/Validation)\n",
      "Epoch 14, CIFAR-10 Batch 2:  Cost:  0.432 /  0.954, \t Accuracy: 0.90000 / 0.67720 \t (Training/Validation)\n",
      "Epoch 14, CIFAR-10 Batch 3:  Cost:  0.394 /  0.913, \t Accuracy: 0.90000 / 0.69020 \t (Training/Validation)\n",
      "Epoch 14, CIFAR-10 Batch 4:  Cost:  0.451 /  0.910, \t Accuracy: 0.90000 / 0.68740 \t (Training/Validation)\n",
      "Epoch 14, CIFAR-10 Batch 5:  Cost:  0.501 /  0.933, \t Accuracy: 0.92500 / 0.67780 \t (Training/Validation)\n",
      "Epoch 15, CIFAR-10 Batch 1:  Cost:  0.573 /  0.919, \t Accuracy: 0.85000 / 0.68020 \t (Training/Validation)\n",
      "Epoch 15, CIFAR-10 Batch 2:  Cost:  0.403 /  0.937, \t Accuracy: 0.90000 / 0.68400 \t (Training/Validation)\n",
      "Epoch 15, CIFAR-10 Batch 3:  Cost:  0.380 /  0.902, \t Accuracy: 0.92500 / 0.69080 \t (Training/Validation)\n",
      "Epoch 15, CIFAR-10 Batch 4:  Cost:  0.423 /  0.899, \t Accuracy: 0.90000 / 0.69340 \t (Training/Validation)\n",
      "Epoch 15, CIFAR-10 Batch 5:  Cost:  0.483 /  0.925, \t Accuracy: 0.92500 / 0.68300 \t (Training/Validation)\n",
      "Epoch 16, CIFAR-10 Batch 1:  Cost:  0.546 /  0.914, \t Accuracy: 0.85000 / 0.68400 \t (Training/Validation)\n",
      "Epoch 16, CIFAR-10 Batch 2:  Cost:  0.383 /  0.920, \t Accuracy: 0.90000 / 0.68960 \t (Training/Validation)\n",
      "Epoch 16, CIFAR-10 Batch 3:  Cost:  0.363 /  0.890, \t Accuracy: 0.92500 / 0.69780 \t (Training/Validation)\n",
      "Epoch 16, CIFAR-10 Batch 4:  Cost:  0.400 /  0.889, \t Accuracy: 0.90000 / 0.69560 \t (Training/Validation)\n",
      "Epoch 16, CIFAR-10 Batch 5:  Cost:  0.465 /  0.922, \t Accuracy: 0.92500 / 0.68640 \t (Training/Validation)\n",
      "Epoch 17, CIFAR-10 Batch 1:  Cost:  0.519 /  0.906, \t Accuracy: 0.85000 / 0.68740 \t (Training/Validation)\n",
      "Epoch 17, CIFAR-10 Batch 2:  Cost:  0.364 /  0.905, \t Accuracy: 0.95000 / 0.69580 \t (Training/Validation)\n",
      "Epoch 17, CIFAR-10 Batch 3:  Cost:  0.346 /  0.881, \t Accuracy: 0.92500 / 0.70260 \t (Training/Validation)\n",
      "Epoch 17, CIFAR-10 Batch 4:  Cost:  0.373 /  0.880, \t Accuracy: 0.90000 / 0.70020 \t (Training/Validation)\n",
      "Epoch 17, CIFAR-10 Batch 5:  Cost:  0.444 /  0.919, \t Accuracy: 0.92500 / 0.68660 \t (Training/Validation)\n",
      "Epoch 18, CIFAR-10 Batch 1:  Cost:  0.496 /  0.896, \t Accuracy: 0.85000 / 0.69440 \t (Training/Validation)\n",
      "Epoch 18, CIFAR-10 Batch 2:  Cost:  0.343 /  0.896, \t Accuracy: 0.95000 / 0.69700 \t (Training/Validation)\n",
      "Epoch 18, CIFAR-10 Batch 3:  Cost:  0.327 /  0.872, \t Accuracy: 0.92500 / 0.70460 \t (Training/Validation)\n",
      "Epoch 18, CIFAR-10 Batch 4:  Cost:  0.354 /  0.873, \t Accuracy: 0.90000 / 0.70300 \t (Training/Validation)\n",
      "Epoch 18, CIFAR-10 Batch 5:  Cost:  0.427 /  0.911, \t Accuracy: 0.92500 / 0.69080 \t (Training/Validation)\n",
      "Epoch 19, CIFAR-10 Batch 1:  Cost:  0.476 /  0.890, \t Accuracy: 0.85000 / 0.69560 \t (Training/Validation)\n",
      "Epoch 19, CIFAR-10 Batch 2:  Cost:  0.320 /  0.887, \t Accuracy: 0.95000 / 0.69960 \t (Training/Validation)\n",
      "Epoch 19, CIFAR-10 Batch 3:  Cost:  0.310 /  0.866, \t Accuracy: 0.92500 / 0.70600 \t (Training/Validation)\n",
      "Epoch 19, CIFAR-10 Batch 4:  Cost:  0.332 /  0.864, \t Accuracy: 0.92500 / 0.70680 \t (Training/Validation)\n",
      "Epoch 19, CIFAR-10 Batch 5:  Cost:  0.407 /  0.904, \t Accuracy: 0.92500 / 0.69480 \t (Training/Validation)\n",
      "Epoch 20, CIFAR-10 Batch 1:  Cost:  0.453 /  0.883, \t Accuracy: 0.85000 / 0.69780 \t (Training/Validation)\n",
      "Epoch 20, CIFAR-10 Batch 2:  Cost:  0.304 /  0.880, \t Accuracy: 0.97500 / 0.70240 \t (Training/Validation)\n",
      "Epoch 20, CIFAR-10 Batch 3:  Cost:  0.297 /  0.863, \t Accuracy: 0.92500 / 0.70880 \t (Training/Validation)\n",
      "Epoch 20, CIFAR-10 Batch 4:  Cost:  0.316 /  0.860, \t Accuracy: 0.95000 / 0.70720 \t (Training/Validation)\n",
      "Epoch 20, CIFAR-10 Batch 5:  Cost:  0.393 /  0.904, \t Accuracy: 0.92500 / 0.69280 \t (Training/Validation)\n",
      "Epoch 21, CIFAR-10 Batch 1:  Cost:  0.437 /  0.875, \t Accuracy: 0.87500 / 0.69980 \t (Training/Validation)\n",
      "Epoch 21, CIFAR-10 Batch 2:  Cost:  0.286 /  0.875, \t Accuracy: 0.97500 / 0.70240 \t (Training/Validation)\n",
      "Epoch 21, CIFAR-10 Batch 3:  Cost:  0.282 /  0.856, \t Accuracy: 0.92500 / 0.71300 \t (Training/Validation)\n",
      "Epoch 21, CIFAR-10 Batch 4:  Cost:  0.300 /  0.855, \t Accuracy: 0.95000 / 0.70960 \t (Training/Validation)\n",
      "Epoch 21, CIFAR-10 Batch 5:  Cost:  0.374 /  0.896, \t Accuracy: 0.92500 / 0.69600 \t (Training/Validation)\n",
      "Epoch 22, CIFAR-10 Batch 1:  Cost:  0.419 /  0.869, \t Accuracy: 0.90000 / 0.70420 \t (Training/Validation)\n",
      "Epoch 22, CIFAR-10 Batch 2:  Cost:  0.274 /  0.871, \t Accuracy: 0.97500 / 0.70580 \t (Training/Validation)\n",
      "Epoch 22, CIFAR-10 Batch 3:  Cost:  0.265 /  0.850, \t Accuracy: 0.92500 / 0.71520 \t (Training/Validation)\n",
      "Epoch 22, CIFAR-10 Batch 4:  Cost:  0.286 /  0.850, \t Accuracy: 0.95000 / 0.71180 \t (Training/Validation)\n",
      "Epoch 22, CIFAR-10 Batch 5:  Cost:  0.355 /  0.890, \t Accuracy: 0.92500 / 0.70100 \t (Training/Validation)\n",
      "Epoch 23, CIFAR-10 Batch 1:  Cost:  0.397 /  0.861, \t Accuracy: 0.90000 / 0.70640 \t (Training/Validation)\n",
      "Epoch 23, CIFAR-10 Batch 2:  Cost:  0.260 /  0.868, \t Accuracy: 0.97500 / 0.70720 \t (Training/Validation)\n",
      "Epoch 23, CIFAR-10 Batch 3:  Cost:  0.247 /  0.845, \t Accuracy: 0.92500 / 0.71520 \t (Training/Validation)\n",
      "Epoch 23, CIFAR-10 Batch 4:  Cost:  0.271 /  0.845, \t Accuracy: 0.95000 / 0.71340 \t (Training/Validation)\n",
      "Epoch 23, CIFAR-10 Batch 5:  Cost:  0.341 /  0.889, \t Accuracy: 0.92500 / 0.69820 \t (Training/Validation)\n",
      "Epoch 24, CIFAR-10 Batch 1:  Cost:  0.378 /  0.859, \t Accuracy: 0.90000 / 0.70940 \t (Training/Validation)\n",
      "Epoch 24, CIFAR-10 Batch 2:  Cost:  0.248 /  0.867, \t Accuracy: 0.97500 / 0.70760 \t (Training/Validation)\n",
      "Epoch 24, CIFAR-10 Batch 3:  Cost:  0.233 /  0.840, \t Accuracy: 0.95000 / 0.71760 \t (Training/Validation)\n",
      "Epoch 24, CIFAR-10 Batch 4:  Cost:  0.254 /  0.841, \t Accuracy: 1.00000 / 0.71420 \t (Training/Validation)\n",
      "Epoch 24, CIFAR-10 Batch 5:  Cost:  0.320 /  0.883, \t Accuracy: 0.95000 / 0.70060 \t (Training/Validation)\n",
      "Epoch 25, CIFAR-10 Batch 1:  Cost:  0.358 /  0.855, \t Accuracy: 0.92500 / 0.71040 \t (Training/Validation)\n",
      "Epoch 25, CIFAR-10 Batch 2:  Cost:  0.238 /  0.864, \t Accuracy: 0.97500 / 0.70980 \t (Training/Validation)\n",
      "Epoch 25, CIFAR-10 Batch 3:  Cost:  0.217 /  0.840, \t Accuracy: 0.95000 / 0.71580 \t (Training/Validation)\n",
      "Epoch 25, CIFAR-10 Batch 4:  Cost:  0.241 /  0.836, \t Accuracy: 1.00000 / 0.71540 \t (Training/Validation)\n",
      "Epoch 25, CIFAR-10 Batch 5:  Cost:  0.303 /  0.881, \t Accuracy: 0.95000 / 0.70160 \t (Training/Validation)\n",
      "Epoch 26, CIFAR-10 Batch 1:  Cost:  0.341 /  0.854, \t Accuracy: 0.95000 / 0.71120 \t (Training/Validation)\n",
      "Epoch 26, CIFAR-10 Batch 2:  Cost:  0.230 /  0.864, \t Accuracy: 0.97500 / 0.71020 \t (Training/Validation)\n",
      "Epoch 26, CIFAR-10 Batch 3:  Cost:  0.206 /  0.838, \t Accuracy: 0.95000 / 0.71640 \t (Training/Validation)\n",
      "Epoch 26, CIFAR-10 Batch 4:  Cost:  0.233 /  0.832, \t Accuracy: 1.00000 / 0.71600 \t (Training/Validation)\n",
      "Epoch 26, CIFAR-10 Batch 5:  Cost:  0.288 /  0.877, \t Accuracy: 0.97500 / 0.70040 \t (Training/Validation)\n",
      "Epoch 27, CIFAR-10 Batch 1:  Cost:  0.331 /  0.851, \t Accuracy: 0.97500 / 0.71300 \t (Training/Validation)\n",
      "Epoch 27, CIFAR-10 Batch 2:  Cost:  0.218 /  0.862, \t Accuracy: 0.97500 / 0.71140 \t (Training/Validation)\n",
      "Epoch 27, CIFAR-10 Batch 3:  Cost:  0.195 /  0.835, \t Accuracy: 0.95000 / 0.71800 \t (Training/Validation)\n",
      "Epoch 27, CIFAR-10 Batch 4:  Cost:  0.224 /  0.829, \t Accuracy: 1.00000 / 0.71700 \t (Training/Validation)\n",
      "Epoch 27, CIFAR-10 Batch 5:  Cost:  0.276 /  0.878, \t Accuracy: 0.97500 / 0.70040 \t (Training/Validation)\n",
      "Epoch 28, CIFAR-10 Batch 1:  Cost:  0.314 /  0.850, \t Accuracy: 0.97500 / 0.71380 \t (Training/Validation)\n",
      "Epoch 28, CIFAR-10 Batch 2:  Cost:  0.213 /  0.862, \t Accuracy: 0.97500 / 0.71400 \t (Training/Validation)\n",
      "Epoch 28, CIFAR-10 Batch 3:  Cost:  0.186 /  0.833, \t Accuracy: 0.97500 / 0.71960 \t (Training/Validation)\n",
      "Epoch 28, CIFAR-10 Batch 4:  Cost:  0.212 /  0.827, \t Accuracy: 1.00000 / 0.72000 \t (Training/Validation)\n",
      "Epoch 28, CIFAR-10 Batch 5:  Cost:  0.260 /  0.874, \t Accuracy: 0.97500 / 0.70340 \t (Training/Validation)\n",
      "Epoch 29, CIFAR-10 Batch 1:  Cost:  0.301 /  0.850, \t Accuracy: 0.97500 / 0.71400 \t (Training/Validation)\n",
      "Epoch 29, CIFAR-10 Batch 2:  Cost:  0.204 /  0.862, \t Accuracy: 0.97500 / 0.71560 \t (Training/Validation)\n",
      "Epoch 29, CIFAR-10 Batch 3:  Cost:  0.175 /  0.834, \t Accuracy: 0.97500 / 0.72200 \t (Training/Validation)\n",
      "Epoch 29, CIFAR-10 Batch 4:  Cost:  0.204 /  0.826, \t Accuracy: 1.00000 / 0.72140 \t (Training/Validation)\n",
      "Epoch 29, CIFAR-10 Batch 5:  Cost:  0.250 /  0.874, \t Accuracy: 1.00000 / 0.70440 \t (Training/Validation)\n",
      "Epoch 30, CIFAR-10 Batch 1:  Cost:  0.283 /  0.851, \t Accuracy: 0.97500 / 0.71500 \t (Training/Validation)\n",
      "Epoch 30, CIFAR-10 Batch 2:  Cost:  0.197 /  0.864, \t Accuracy: 0.97500 / 0.71700 \t (Training/Validation)\n",
      "Epoch 30, CIFAR-10 Batch 3:  Cost:  0.167 /  0.834, \t Accuracy: 0.97500 / 0.71940 \t (Training/Validation)\n",
      "Epoch 30, CIFAR-10 Batch 4:  Cost:  0.196 /  0.828, \t Accuracy: 1.00000 / 0.72240 \t (Training/Validation)\n",
      "Epoch 30, CIFAR-10 Batch 5:  Cost:  0.237 /  0.868, \t Accuracy: 1.00000 / 0.70580 \t (Training/Validation)\n",
      "Epoch 31, CIFAR-10 Batch 1:  Cost:  0.267 /  0.851, \t Accuracy: 1.00000 / 0.71620 \t (Training/Validation)\n",
      "Epoch 31, CIFAR-10 Batch 2:  Cost:  0.192 /  0.867, \t Accuracy: 0.97500 / 0.71480 \t (Training/Validation)\n",
      "Epoch 31, CIFAR-10 Batch 3:  Cost:  0.160 /  0.836, \t Accuracy: 1.00000 / 0.71900 \t (Training/Validation)\n",
      "Epoch 31, CIFAR-10 Batch 4:  Cost:  0.190 /  0.827, \t Accuracy: 1.00000 / 0.72280 \t (Training/Validation)\n",
      "Epoch 31, CIFAR-10 Batch 5:  Cost:  0.223 /  0.861, \t Accuracy: 1.00000 / 0.70820 \t (Training/Validation)\n",
      "Epoch 32, CIFAR-10 Batch 1:  Cost:  0.253 /  0.853, \t Accuracy: 1.00000 / 0.71440 \t (Training/Validation)\n",
      "Epoch 32, CIFAR-10 Batch 2:  Cost:  0.184 /  0.872, \t Accuracy: 0.97500 / 0.71460 \t (Training/Validation)\n",
      "Epoch 32, CIFAR-10 Batch 3:  Cost:  0.153 /  0.842, \t Accuracy: 1.00000 / 0.71800 \t (Training/Validation)\n",
      "Epoch 32, CIFAR-10 Batch 4:  Cost:  0.186 /  0.830, \t Accuracy: 1.00000 / 0.72280 \t (Training/Validation)\n",
      "Epoch 32, CIFAR-10 Batch 5:  Cost:  0.214 /  0.857, \t Accuracy: 1.00000 / 0.71080 \t (Training/Validation)\n",
      "Epoch 33, CIFAR-10 Batch 1:  Cost:  0.242 /  0.856, \t Accuracy: 1.00000 / 0.71480 \t (Training/Validation)\n",
      "Epoch 33, CIFAR-10 Batch 2:  Cost:  0.178 /  0.872, \t Accuracy: 0.97500 / 0.71620 \t (Training/Validation)\n",
      "Epoch 33, CIFAR-10 Batch 3:  Cost:  0.148 /  0.841, \t Accuracy: 1.00000 / 0.71860 \t (Training/Validation)\n",
      "Epoch 33, CIFAR-10 Batch 4:  Cost:  0.181 /  0.830, \t Accuracy: 1.00000 / 0.72420 \t (Training/Validation)\n",
      "Epoch 33, CIFAR-10 Batch 5:  Cost:  0.202 /  0.851, \t Accuracy: 1.00000 / 0.71480 \t (Training/Validation)\n",
      "Epoch 34, CIFAR-10 Batch 1:  Cost:  0.230 /  0.861, \t Accuracy: 1.00000 / 0.71500 \t (Training/Validation)\n",
      "Epoch 34, CIFAR-10 Batch 2:  Cost:  0.175 /  0.871, \t Accuracy: 0.97500 / 0.71880 \t (Training/Validation)\n",
      "Epoch 34, CIFAR-10 Batch 3:  Cost:  0.139 /  0.843, \t Accuracy: 1.00000 / 0.71900 \t (Training/Validation)\n",
      "Epoch 34, CIFAR-10 Batch 4:  Cost:  0.177 /  0.830, \t Accuracy: 1.00000 / 0.72600 \t (Training/Validation)\n",
      "Epoch 34, CIFAR-10 Batch 5:  Cost:  0.198 /  0.849, \t Accuracy: 1.00000 / 0.71440 \t (Training/Validation)\n",
      "Epoch 35, CIFAR-10 Batch 1:  Cost:  0.219 /  0.863, \t Accuracy: 1.00000 / 0.71620 \t (Training/Validation)\n",
      "Epoch 35, CIFAR-10 Batch 2:  Cost:  0.166 /  0.871, \t Accuracy: 0.97500 / 0.71740 \t (Training/Validation)\n",
      "Epoch 35, CIFAR-10 Batch 3:  Cost:  0.131 /  0.844, \t Accuracy: 1.00000 / 0.72020 \t (Training/Validation)\n",
      "Epoch 35, CIFAR-10 Batch 4:  Cost:  0.170 /  0.831, \t Accuracy: 1.00000 / 0.72640 \t (Training/Validation)\n",
      "Epoch 35, CIFAR-10 Batch 5:  Cost:  0.189 /  0.850, \t Accuracy: 1.00000 / 0.71700 \t (Training/Validation)\n",
      "Epoch 36, CIFAR-10 Batch 1:  Cost:  0.210 /  0.866, \t Accuracy: 1.00000 / 0.71680 \t (Training/Validation)\n",
      "Epoch 36, CIFAR-10 Batch 2:  Cost:  0.161 /  0.874, \t Accuracy: 0.97500 / 0.72000 \t (Training/Validation)\n",
      "Epoch 36, CIFAR-10 Batch 3:  Cost:  0.127 /  0.848, \t Accuracy: 1.00000 / 0.72080 \t (Training/Validation)\n",
      "Epoch 36, CIFAR-10 Batch 4:  Cost:  0.166 /  0.834, \t Accuracy: 1.00000 / 0.72400 \t (Training/Validation)\n",
      "Epoch 36, CIFAR-10 Batch 5:  Cost:  0.184 /  0.853, \t Accuracy: 1.00000 / 0.72000 \t (Training/Validation)\n",
      "Epoch 37, CIFAR-10 Batch 1:  Cost:  0.208 /  0.880, \t Accuracy: 1.00000 / 0.71240 \t (Training/Validation)\n",
      "Epoch 37, CIFAR-10 Batch 2:  Cost:  0.158 /  0.879, \t Accuracy: 0.97500 / 0.71900 \t (Training/Validation)\n",
      "Epoch 37, CIFAR-10 Batch 3:  Cost:  0.124 /  0.854, \t Accuracy: 1.00000 / 0.72100 \t (Training/Validation)\n",
      "Epoch 37, CIFAR-10 Batch 4:  Cost:  0.163 /  0.837, \t Accuracy: 1.00000 / 0.72200 \t (Training/Validation)\n",
      "Epoch 37, CIFAR-10 Batch 5:  Cost:  0.182 /  0.854, \t Accuracy: 1.00000 / 0.71840 \t (Training/Validation)\n",
      "Epoch 38, CIFAR-10 Batch 1:  Cost:  0.203 /  0.893, \t Accuracy: 1.00000 / 0.71020 \t (Training/Validation)\n",
      "Epoch 38, CIFAR-10 Batch 2:  Cost:  0.156 /  0.879, \t Accuracy: 0.97500 / 0.71940 \t (Training/Validation)\n",
      "Epoch 38, CIFAR-10 Batch 3:  Cost:  0.122 /  0.857, \t Accuracy: 1.00000 / 0.72100 \t (Training/Validation)\n",
      "Epoch 38, CIFAR-10 Batch 4:  Cost:  0.158 /  0.841, \t Accuracy: 1.00000 / 0.72160 \t (Training/Validation)\n",
      "Epoch 38, CIFAR-10 Batch 5:  Cost:  0.176 /  0.854, \t Accuracy: 1.00000 / 0.72080 \t (Training/Validation)\n",
      "Epoch 39, CIFAR-10 Batch 1:  Cost:  0.199 /  0.908, \t Accuracy: 1.00000 / 0.70740 \t (Training/Validation)\n",
      "Epoch 39, CIFAR-10 Batch 2:  Cost:  0.154 /  0.885, \t Accuracy: 0.97500 / 0.72000 \t (Training/Validation)\n",
      "Epoch 39, CIFAR-10 Batch 3:  Cost:  0.124 /  0.868, \t Accuracy: 0.97500 / 0.72020 \t (Training/Validation)\n",
      "Epoch 39, CIFAR-10 Batch 4:  Cost:  0.156 /  0.844, \t Accuracy: 1.00000 / 0.72060 \t (Training/Validation)\n",
      "Epoch 39, CIFAR-10 Batch 5:  Cost:  0.170 /  0.856, \t Accuracy: 1.00000 / 0.72180 \t (Training/Validation)\n",
      "Epoch 40, CIFAR-10 Batch 1:  Cost:  0.198 /  0.917, \t Accuracy: 1.00000 / 0.70580 \t (Training/Validation)\n",
      "Epoch 40, CIFAR-10 Batch 2:  Cost:  0.151 /  0.894, \t Accuracy: 0.97500 / 0.71800 \t (Training/Validation)\n",
      "Epoch 40, CIFAR-10 Batch 3:  Cost:  0.117 /  0.867, \t Accuracy: 0.97500 / 0.72000 \t (Training/Validation)\n",
      "Epoch 40, CIFAR-10 Batch 4:  Cost:  0.153 /  0.846, \t Accuracy: 1.00000 / 0.71900 \t (Training/Validation)\n",
      "Epoch 40, CIFAR-10 Batch 5:  Cost:  0.162 /  0.861, \t Accuracy: 1.00000 / 0.72060 \t (Training/Validation)\n",
      "Epoch 41, CIFAR-10 Batch 1:  Cost:  0.201 /  0.919, \t Accuracy: 1.00000 / 0.70400 \t (Training/Validation)\n",
      "Epoch 41, CIFAR-10 Batch 2:  Cost:  0.150 /  0.904, \t Accuracy: 1.00000 / 0.71540 \t (Training/Validation)\n",
      "Epoch 41, CIFAR-10 Batch 3:  Cost:  0.110 /  0.863, \t Accuracy: 0.97500 / 0.72140 \t (Training/Validation)\n",
      "Epoch 41, CIFAR-10 Batch 4:  Cost:  0.147 /  0.842, \t Accuracy: 1.00000 / 0.72220 \t (Training/Validation)\n",
      "Epoch 41, CIFAR-10 Batch 5:  Cost:  0.160 /  0.871, \t Accuracy: 1.00000 / 0.72120 \t (Training/Validation)\n",
      "Epoch 42, CIFAR-10 Batch 1:  Cost:  0.188 /  0.901, \t Accuracy: 1.00000 / 0.70920 \t (Training/Validation)\n",
      "Epoch 42, CIFAR-10 Batch 2:  Cost:  0.150 /  0.897, \t Accuracy: 1.00000 / 0.71560 \t (Training/Validation)\n",
      "Epoch 42, CIFAR-10 Batch 3:  Cost:  0.104 /  0.854, \t Accuracy: 1.00000 / 0.72500 \t (Training/Validation)\n",
      "Epoch 42, CIFAR-10 Batch 4:  Cost:  0.140 /  0.837, \t Accuracy: 1.00000 / 0.72580 \t (Training/Validation)\n",
      "Epoch 42, CIFAR-10 Batch 5:  Cost:  0.157 /  0.879, \t Accuracy: 1.00000 / 0.72140 \t (Training/Validation)\n",
      "Epoch 43, CIFAR-10 Batch 1:  Cost:  0.179 /  0.883, \t Accuracy: 1.00000 / 0.71580 \t (Training/Validation)\n",
      "Epoch 43, CIFAR-10 Batch 2:  Cost:  0.148 /  0.891, \t Accuracy: 1.00000 / 0.71580 \t (Training/Validation)\n",
      "Epoch 43, CIFAR-10 Batch 3:  Cost:  0.098 /  0.862, \t Accuracy: 1.00000 / 0.72220 \t (Training/Validation)\n",
      "Epoch 43, CIFAR-10 Batch 4:  Cost:  0.136 /  0.834, \t Accuracy: 1.00000 / 0.73060 \t (Training/Validation)\n",
      "Epoch 43, CIFAR-10 Batch 5:  Cost:  0.153 /  0.878, \t Accuracy: 1.00000 / 0.72200 \t (Training/Validation)\n",
      "Epoch 44, CIFAR-10 Batch 1:  Cost:  0.171 /  0.883, \t Accuracy: 1.00000 / 0.71480 \t (Training/Validation)\n",
      "Epoch 44, CIFAR-10 Batch 2:  Cost:  0.140 /  0.889, \t Accuracy: 1.00000 / 0.71560 \t (Training/Validation)\n",
      "Epoch 44, CIFAR-10 Batch 3:  Cost:  0.095 /  0.863, \t Accuracy: 1.00000 / 0.72580 \t (Training/Validation)\n",
      "Epoch 44, CIFAR-10 Batch 4:  Cost:  0.129 /  0.835, \t Accuracy: 1.00000 / 0.72880 \t (Training/Validation)\n",
      "Epoch 44, CIFAR-10 Batch 5:  Cost:  0.148 /  0.868, \t Accuracy: 1.00000 / 0.72240 \t (Training/Validation)\n",
      "Epoch 45, CIFAR-10 Batch 1:  Cost:  0.159 /  0.882, \t Accuracy: 1.00000 / 0.71440 \t (Training/Validation)\n",
      "Epoch 45, CIFAR-10 Batch 2:  Cost:  0.138 /  0.887, \t Accuracy: 0.97500 / 0.71780 \t (Training/Validation)\n",
      "Epoch 45, CIFAR-10 Batch 3:  Cost:  0.087 /  0.868, \t Accuracy: 1.00000 / 0.72460 \t (Training/Validation)\n",
      "Epoch 45, CIFAR-10 Batch 4:  Cost:  0.127 /  0.836, \t Accuracy: 1.00000 / 0.73140 \t (Training/Validation)\n",
      "Epoch 45, CIFAR-10 Batch 5:  Cost:  0.147 /  0.862, \t Accuracy: 1.00000 / 0.72560 \t (Training/Validation)\n",
      "Epoch 46, CIFAR-10 Batch 1:  Cost:  0.155 /  0.883, \t Accuracy: 1.00000 / 0.71680 \t (Training/Validation)\n",
      "Epoch 46, CIFAR-10 Batch 2:  Cost:  0.134 /  0.886, \t Accuracy: 0.97500 / 0.71900 \t (Training/Validation)\n",
      "Epoch 46, CIFAR-10 Batch 3:  Cost:  0.084 /  0.869, \t Accuracy: 1.00000 / 0.72340 \t (Training/Validation)\n",
      "Epoch 46, CIFAR-10 Batch 4:  Cost:  0.125 /  0.841, \t Accuracy: 1.00000 / 0.72840 \t (Training/Validation)\n",
      "Epoch 46, CIFAR-10 Batch 5:  Cost:  0.149 /  0.860, \t Accuracy: 1.00000 / 0.72560 \t (Training/Validation)\n",
      "Epoch 47, CIFAR-10 Batch 1:  Cost:  0.151 /  0.883, \t Accuracy: 1.00000 / 0.71500 \t (Training/Validation)\n",
      "Epoch 47, CIFAR-10 Batch 2:  Cost:  0.131 /  0.883, \t Accuracy: 0.97500 / 0.71860 \t (Training/Validation)\n",
      "Epoch 47, CIFAR-10 Batch 3:  Cost:  0.079 /  0.870, \t Accuracy: 1.00000 / 0.72240 \t (Training/Validation)\n",
      "Epoch 47, CIFAR-10 Batch 4:  Cost:  0.126 /  0.847, \t Accuracy: 1.00000 / 0.72720 \t (Training/Validation)\n",
      "Epoch 47, CIFAR-10 Batch 5:  Cost:  0.151 /  0.864, \t Accuracy: 0.97500 / 0.72460 \t (Training/Validation)\n",
      "Epoch 48, CIFAR-10 Batch 1:  Cost:  0.144 /  0.882, \t Accuracy: 1.00000 / 0.71720 \t (Training/Validation)\n",
      "Epoch 48, CIFAR-10 Batch 2:  Cost:  0.131 /  0.888, \t Accuracy: 0.97500 / 0.71940 \t (Training/Validation)\n",
      "Epoch 48, CIFAR-10 Batch 3:  Cost:  0.077 /  0.865, \t Accuracy: 1.00000 / 0.72360 \t (Training/Validation)\n",
      "Epoch 48, CIFAR-10 Batch 4:  Cost:  0.126 /  0.858, \t Accuracy: 1.00000 / 0.72500 \t (Training/Validation)\n",
      "Epoch 48, CIFAR-10 Batch 5:  Cost:  0.148 /  0.868, \t Accuracy: 1.00000 / 0.72400 \t (Training/Validation)\n",
      "Epoch 49, CIFAR-10 Batch 1:  Cost:  0.141 /  0.885, \t Accuracy: 1.00000 / 0.72020 \t (Training/Validation)\n",
      "Epoch 49, CIFAR-10 Batch 2:  Cost:  0.130 /  0.895, \t Accuracy: 1.00000 / 0.71880 \t (Training/Validation)\n",
      "Epoch 49, CIFAR-10 Batch 3:  Cost:  0.072 /  0.862, \t Accuracy: 1.00000 / 0.72400 \t (Training/Validation)\n",
      "Epoch 49, CIFAR-10 Batch 4:  Cost:  0.131 /  0.877, \t Accuracy: 1.00000 / 0.72260 \t (Training/Validation)\n",
      "Epoch 49, CIFAR-10 Batch 5:  Cost:  0.144 /  0.872, \t Accuracy: 1.00000 / 0.72300 \t (Training/Validation)\n",
      "Epoch 50, CIFAR-10 Batch 1:  Cost:  0.135 /  0.887, \t Accuracy: 1.00000 / 0.72080 \t (Training/Validation)\n",
      "Epoch 50, CIFAR-10 Batch 2:  Cost:  0.128 /  0.901, \t Accuracy: 1.00000 / 0.71580 \t (Training/Validation)\n",
      "Epoch 50, CIFAR-10 Batch 3:  Cost:  0.070 /  0.858, \t Accuracy: 1.00000 / 0.72780 \t (Training/Validation)\n",
      "Epoch 50, CIFAR-10 Batch 4:  Cost:  0.135 /  0.896, \t Accuracy: 1.00000 / 0.71760 \t (Training/Validation)\n",
      "Epoch 50, CIFAR-10 Batch 5:  Cost:  0.140 /  0.873, \t Accuracy: 1.00000 / 0.72520 \t (Training/Validation)\n"
     ]
    }
   ],
   "source": [
    "\"\"\"\n",
    "DON'T MODIFY ANYTHING IN THIS CELL\n",
    "\"\"\"\n",
    "save_model_path = './image_classification'\n",
    "\n",
    "print('Training...')\n",
    "with tf.Session() as sess:\n",
    "    # Initializing the variables\n",
    "    sess.run(tf.global_variables_initializer())\n",
    "    \n",
    "    # Training cycle\n",
    "    for epoch in range(epochs):\n",
    "        # Loop over all batches\n",
    "        n_batches = 5\n",
    "        for batch_i in range(1, n_batches + 1):\n",
    "            for batch_features, batch_labels in helper.load_preprocess_training_batch(batch_i, batch_size):\n",
    "                train_neural_network(sess, optimizer, keep_probability, batch_features, batch_labels)\n",
    "            print('Epoch {:>2}, CIFAR-10 Batch {}:  '.format(epoch + 1, batch_i), end='')\n",
    "            print_stats(sess, batch_features, batch_labels, cost, accuracy)\n",
    "            \n",
    "    # Save Model\n",
    "    saver = tf.train.Saver()\n",
    "    save_path = saver.save(sess, save_model_path)"
   ]
  },
  {
   "cell_type": "markdown",
   "metadata": {
    "deletable": true,
    "editable": true
   },
   "source": [
    "# Checkpoint\n",
    "The model has been saved to disk.\n",
    "## Test Model\n",
    "Test your model against the test dataset.  This will be your final accuracy. You should have an accuracy greater than 50%. If you don't, keep tweaking the model architecture and parameters."
   ]
  },
  {
   "cell_type": "code",
   "execution_count": 57,
   "metadata": {
    "collapsed": false,
    "deletable": true,
    "editable": true
   },
   "outputs": [
    {
     "name": "stdout",
     "output_type": "stream",
     "text": [
      "Testing Accuracy: 0.71826171875\n",
      "\n"
     ]
    },
    {
     "data": {
      "image/png": "[encoded data removed]",
      "text/plain": [
       "<matplotlib.figure.Figure at 0x7f10df0c3ef0>"
      ]
     },
     "metadata": {
      "image/png": {
       "height": 319,
       "width": 355
      }
     },
     "output_type": "display_data"
    }
   ],
   "source": [
    "\"\"\"\n",
    "DON'T MODIFY ANYTHING IN THIS CELL\n",
    "\"\"\"\n",
    "%matplotlib inline\n",
    "%config InlineBackend.figure_format = 'retina'\n",
    "\n",
    "import tensorflow as tf\n",
    "import pickle\n",
    "import helper\n",
    "import random\n",
    "\n",
    "# Set batch size if not already set\n",
    "try:\n",
    "    if batch_size:\n",
    "        pass\n",
    "except NameError:\n",
    "    batch_size = 64\n",
    "\n",
    "save_model_path = './image_classification'\n",
    "n_samples = 4\n",
    "top_n_predictions = 3\n",
    "\n",
    "def test_model():\n",
    "    \"\"\"\n",
    "    Test the saved model against the test dataset\n",
    "    \"\"\"\n",
    "\n",
    "    test_features, test_labels = pickle.load(open('preprocess_training.p', mode='rb'))\n",
    "    loaded_graph = tf.Graph()\n",
    "\n",
    "    with tf.Session(graph=loaded_graph) as sess:\n",
    "        # Load model\n",
    "        loader = tf.train.import_meta_graph(save_model_path + '.meta')\n",
    "        loader.restore(sess, save_model_path)\n",
    "\n",
    "        # Get Tensors from loaded model\n",
    "        loaded_x = loaded_graph.get_tensor_by_name('x:0')\n",
    "        loaded_y = loaded_graph.get_tensor_by_name('y:0')\n",
    "        loaded_keep_prob = loaded_graph.get_tensor_by_name('keep_prob:0')\n",
    "        loaded_logits = loaded_graph.get_tensor_by_name('logits:0')\n",
    "        loaded_acc = loaded_graph.get_tensor_by_name('accuracy:0')\n",
    "        \n",
    "        # Get accuracy in batches for memory limitations\n",
    "        test_batch_acc_total = 0\n",
    "        test_batch_count = 0\n",
    "        \n",
    "        for train_feature_batch, train_label_batch in helper.batch_features_labels(test_features, test_labels, batch_size):\n",
    "            test_batch_acc_total += sess.run(\n",
    "                loaded_acc,\n",
    "                feed_dict={loaded_x: train_feature_batch, loaded_y: train_label_batch, loaded_keep_prob: 1.0})\n",
    "            test_batch_count += 1\n",
    "\n",
    "        print('Testing Accuracy: {}\\n'.format(test_batch_acc_total/test_batch_count))\n",
    "\n",
    "        # Print Random Samples\n",
    "        random_test_features, random_test_labels = tuple(zip(*random.sample(list(zip(test_features, test_labels)), n_samples)))\n",
    "        random_test_predictions = sess.run(\n",
    "            tf.nn.top_k(tf.nn.softmax(loaded_logits), top_n_predictions),\n",
    "            feed_dict={loaded_x: random_test_features, loaded_y: random_test_labels, loaded_keep_prob: 1.0})\n",
    "        helper.display_image_predictions(random_test_features, random_test_labels, random_test_predictions)\n",
    "\n",
    "\n",
    "test_model()"
   ]
  },
  {
   "cell_type": "markdown",
   "metadata": {
    "deletable": true,
    "editable": true
   },
   "source": [
    "## Why 50-70% Accuracy?\n",
    "You might be wondering why you can't get an accuracy any higher. First things first, 50% isn't bad for a simple CNN.  Pure guessing would get you 10% accuracy. However, you might notice people are getting scores [well above 70%](http://rodrigob.github.io/are_we_there_yet/build/classification_datasets_results.html#43494641522d3130).  That's because we haven't taught you all there is to know about neural networks. We still need to cover a few more techniques.\n",
    "## Submitting This Project\n",
    "When submitting this project, make sure to run all the cells before saving the notebook.  Save the notebook file as \"dlnd_image_classification.ipynb\" and save it as a HTML file under \"File\" -> \"Download as\".  Include the \"helper.py\" and \"problem_unittests.py\" files in your submission."
   ]
  }
 ],
 "metadata": {
  "kernelspec": {
   "display_name": "Python 3",
   "language": "python",
   "name": "python3"
  },
  "language_info": {
   "codemirror_mode": {
    "name": "ipython",
    "version": 3
   },
   "file_extension": ".py",
   "mimetype": "text/x-python",
   "name": "python",
   "nbconvert_exporter": "python",
   "pygments_lexer": "ipython3",
   "version": "3.5.2"
  },
  "widgets": {
   "state": {},
   "version": "1.1.2"
  }
 },
 "nbformat": 4,
 "nbformat_minor": 0
}
